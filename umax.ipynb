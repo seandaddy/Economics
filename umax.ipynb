{
 "cells": [
  {
   "attachments": {},
   "cell_type": "markdown",
   "metadata": {},
   "source": [
    "# Solving Consumer's Utility Maximization Problem\n",
    "A consumer has the following utility function:\n",
    "$u(x)=x_1^a + x_2^b.$\n",
    "The budget constraint is:\n",
    "$M = p_1 x_1 + p_2 x_2$\n",
    "\n",
    "1. Find the Marshallian Demands\n",
    "2. Find the indirect utility function\n",
    "3. Find the expenditure function\n",
    "4. Find Hicksian demands"
   ]
  },
  {
   "cell_type": "code",
   "execution_count": 1,
   "metadata": {},
   "outputs": [
    {
     "name": "stdout",
     "output_type": "stream",
     "text": [
      "a*m/(p_1*(a + b)) b*m/(p_2*(a + b))\n"
     ]
    }
   ],
   "source": [
    "from __future__ import division\n",
    "from sympy import *\n",
    "\n",
    "x_1, x_2, p_1, p_2 = symbols('x_1 x_2 p_1 p_2', positive=True)\n",
    "a, b, λ = symbols('a b λ', Real=True)\n",
    "u, m, e, v = symbols('u m v e')\n",
    "\n",
    "utility = x_1**a * x_2**b\n",
    "budget = p_1*x_1 + p_2*x_2\n",
    "L=utility + λ*(m-budget)\n",
    "\n",
    "FOC_1 = diff(L,x_1)\n",
    "FOC_2 = diff(L,x_2)\n",
    "FOC_3 = diff(L,λ)\n",
    "\n",
    "marshallian=solve([FOC_1, FOC_2, FOC_3], [x_1, x_2, λ])\n",
    "x1_mar = marshallian[0][0]\n",
    "x2_mar = marshallian[0][1]\n",
    "print(x1_mar, x2_mar)"
   ]
  },
  {
   "cell_type": "code",
   "execution_count": 2,
   "metadata": {},
   "outputs": [
    {
     "data": {
      "text/latex": [
       "$\\displaystyle \\left(\\frac{a m}{p_{1} \\left(a + b\\right)}\\right)^{a} \\left(\\frac{b m}{p_{2} \\left(a + b\\right)}\\right)^{b}$"
      ],
      "text/plain": [
       "(a*m/(p_1*(a + b)))**a*(b*m/(p_2*(a + b)))**b"
      ]
     },
     "execution_count": 2,
     "metadata": {},
     "output_type": "execute_result"
    }
   ],
   "source": [
    "value_func = utility.subs({x_1:x1_mar, x_2:x2_mar})\n",
    "value_func"
   ]
  },
  {
   "cell_type": "code",
   "execution_count": 3,
   "metadata": {},
   "outputs": [
    {
     "data": {
      "text/latex": [
       "$\\displaystyle \\left(u \\left(\\frac{p_{1} \\left(a + b\\right)}{a}\\right)^{a} \\left(\\frac{p_{2} \\left(a + b\\right)}{b}\\right)^{b}\\right)^{\\frac{1}{a + b}}$"
      ],
      "text/plain": [
       "(u*(p_1*(a + b)/a)**a*(p_2*(a + b)/b)**b)**(1/(a + b))"
      ]
     },
     "execution_count": 3,
     "metadata": {},
     "output_type": "execute_result"
    }
   ],
   "source": [
    "expenditure = solve(u-value_func.subs({m:e}),e)\n",
    "expenditure[0]\n",
    "expenditure[0].powsimp(deep=True, force=True)"
   ]
  },
  {
   "cell_type": "code",
   "execution_count": 4,
   "metadata": {},
   "outputs": [
    {
     "data": {
      "text/latex": [
       "$\\displaystyle \\frac{a \\left(u \\left(\\frac{p_{1} \\left(a + b\\right)}{a}\\right)^{a} \\left(\\frac{p_{2} \\left(a + b\\right)}{b}\\right)^{b}\\right)^{\\frac{1}{a + b}}}{p_{1} \\left(a + b\\right)}$"
      ],
      "text/plain": [
       "a*(u*(p_1*(a + b)/a)**a*(p_2*(a + b)/b)**b)**(1/(a + b))/(p_1*(a + b))"
      ]
     },
     "execution_count": 4,
     "metadata": {},
     "output_type": "execute_result"
    }
   ],
   "source": [
    "h1=diff(expenditure[0],p_1)\n",
    "h1.simplify()\n",
    "powsimp(h1,deep=True, force=True)"
   ]
  },
  {
   "cell_type": "code",
   "execution_count": 7,
   "metadata": {},
   "outputs": [
    {
     "data": {
      "text/latex": [
       "$\\displaystyle \\frac{\\sqrt{p_{2}} \\sqrt{u}}{\\sqrt{p_{1}}}$"
      ],
      "text/plain": [
       "sqrt(p_2)*sqrt(u)/sqrt(p_1)"
      ]
     },
     "execution_count": 7,
     "metadata": {},
     "output_type": "execute_result"
    }
   ],
   "source": [
    "h1_new=h1.subs({a:1,b:1})\n",
    "h1_new"
   ]
  }
 ],
 "metadata": {
  "kernelspec": {
   "display_name": "Python 3",
   "language": "python",
   "name": "python3"
  },
  "language_info": {
   "codemirror_mode": {
    "name": "ipython",
    "version": 3
   },
   "file_extension": ".py",
   "mimetype": "text/x-python",
   "name": "python",
   "nbconvert_exporter": "python",
   "pygments_lexer": "ipython3",
   "version": "3.11.1"
  },
  "orig_nbformat": 4,
  "vscode": {
   "interpreter": {
    "hash": "aee8b7b246df8f9039afb4144a1f6fd8d2ca17a180786b69acc140d282b71a49"
   }
  }
 },
 "nbformat": 4,
 "nbformat_minor": 2
}
